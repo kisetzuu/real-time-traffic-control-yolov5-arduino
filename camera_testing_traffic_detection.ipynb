{
 "cells": [
  {
   "cell_type": "code",
   "execution_count": null,
   "metadata": {},
   "outputs": [],
   "source": [
    "import cv2\n",
    "import torch\n",
    "\n",
    "# Load the YOLOv5 model\n",
    "model = torch.hub.load('ultralytics/yolov5', 'yolov5s')\n",
    "\n",
    "# Capture video from the USB camera (camera index 0, you can change to 1 or higher if you have multiple cameras)\n",
    "cap = cv2.VideoCapture(0)\n",
    "\n",
    "# Check if the camera opened successfully\n",
    "if not cap.isOpened():\n",
    "    print(\"Error: Could not open camera.\")\n",
    "    exit()\n",
    "\n",
    "# Get video frame width and height\n",
    "frame_width = int(cap.get(3))\n",
    "frame_height = int(cap.get(4))\n",
    "\n",
    "# Optionally, define the codec and create VideoWriter object to save the output video\n",
    "output_path = r'C:\\Users\\kligh\\OneDrive\\Desktop\\FCS - FP\\Traffic Detection\\result\\realtime_output.mp4'\n",
    "out = cv2.VideoWriter(output_path, cv2.VideoWriter_fourcc(*'mp4v'), 30, (frame_width, frame_height))\n",
    "\n",
    "while True:\n",
    "    # Capture frame-by-frame\n",
    "    ret, frame = cap.read()\n",
    "\n",
    "    if not ret:\n",
    "        print(\"Failed to grab frame.\")\n",
    "        break\n",
    "\n",
    "    # Perform YOLOv5 inference on the frame\n",
    "    results = model(frame)\n",
    "\n",
    "    # Get the detected objects' bounding boxes and labels\n",
    "    frame_with_detections = results.render()[0]\n",
    "\n",
    "    # Display the frame with detections\n",
    "    cv2.imshow('USB Camera Object Detection', frame_with_detections)\n",
    "\n",
    "    # Save the frame to the output video\n",
    "    out.write(frame_with_detections)\n",
    "\n",
    "    # Press 'q' to exit the real-time detection\n",
    "    if cv2.waitKey(1) & 0xFF == ord('q'):\n",
    "        break\n",
    "\n",
    "# Release the camera and output file\n",
    "cap.release()\n",
    "out.release()\n",
    "\n",
    "# Close all OpenCV windows\n",
    "cv2.destroyAllWindows()\n"
   ]
  }
 ],
 "metadata": {
  "kernelspec": {
   "display_name": "tf_env",
   "language": "python",
   "name": "python3"
  },
  "language_info": {
   "codemirror_mode": {
    "name": "ipython",
    "version": 3
   },
   "file_extension": ".py",
   "mimetype": "text/x-python",
   "name": "python",
   "nbconvert_exporter": "python",
   "pygments_lexer": "ipython3",
   "version": "3.9.18"
  }
 },
 "nbformat": 4,
 "nbformat_minor": 2
}
