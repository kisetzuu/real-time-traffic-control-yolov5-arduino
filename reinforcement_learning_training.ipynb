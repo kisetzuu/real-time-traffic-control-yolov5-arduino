{
 "cells": [
  {
   "cell_type": "code",
   "execution_count": 1,
   "metadata": {},
   "outputs": [
    {
     "name": "stdout",
     "output_type": "stream",
     "text": [
      "Using cpu device\n",
      "Wrapping the env with a `Monitor` wrapper\n",
      "Wrapping the env in a DummyVecEnv.\n",
      "----------------------------------\n",
      "| rollout/           |           |\n",
      "|    ep_len_mean     | 100       |\n",
      "|    ep_rew_mean     | -3.96e+03 |\n",
      "| time/              |           |\n",
      "|    fps             | 1934      |\n",
      "|    iterations      | 1         |\n",
      "|    time_elapsed    | 1         |\n",
      "|    total_timesteps | 2048      |\n",
      "----------------------------------\n",
      "------------------------------------------\n",
      "| rollout/                |              |\n",
      "|    ep_len_mean          | 100          |\n",
      "|    ep_rew_mean          | -3.44e+03    |\n",
      "| time/                   |              |\n",
      "|    fps                  | 1267         |\n",
      "|    iterations           | 2            |\n",
      "|    time_elapsed         | 3            |\n",
      "|    total_timesteps      | 4096         |\n",
      "| train/                  |              |\n",
      "|    approx_kl            | 0.0068800724 |\n",
      "|    clip_fraction        | 0            |\n",
      "|    clip_range           | 0.2          |\n",
      "|    entropy_loss         | -1.1         |\n",
      "|    explained_variance   | 0.000209     |\n",
      "|    learning_rate        | 0.0003       |\n",
      "|    loss                 | 2.14e+05     |\n",
      "|    n_updates            | 10           |\n",
      "|    policy_gradient_loss | -0.000896    |\n",
      "|    value_loss           | 4.55e+05     |\n",
      "------------------------------------------\n",
      "-----------------------------------------\n",
      "| rollout/                |             |\n",
      "|    ep_len_mean          | 100         |\n",
      "|    ep_rew_mean          | -3.06e+03   |\n",
      "| time/                   |             |\n",
      "|    fps                  | 1156        |\n",
      "|    iterations           | 3           |\n",
      "|    time_elapsed         | 5           |\n",
      "|    total_timesteps      | 6144        |\n",
      "| train/                  |             |\n",
      "|    approx_kl            | 0.008507276 |\n",
      "|    clip_fraction        | 0.0532      |\n",
      "|    clip_range           | 0.2         |\n",
      "|    entropy_loss         | -1.09       |\n",
      "|    explained_variance   | 0.00411     |\n",
      "|    learning_rate        | 0.0003      |\n",
      "|    loss                 | 1.35e+05    |\n",
      "|    n_updates            | 20          |\n",
      "|    policy_gradient_loss | -0.00462    |\n",
      "|    value_loss           | 2.7e+05     |\n",
      "-----------------------------------------\n",
      "----------------------------------------\n",
      "| rollout/                |            |\n",
      "|    ep_len_mean          | 100        |\n",
      "|    ep_rew_mean          | -2.99e+03  |\n",
      "| time/                   |            |\n",
      "|    fps                  | 1118       |\n",
      "|    iterations           | 4          |\n",
      "|    time_elapsed         | 7          |\n",
      "|    total_timesteps      | 8192       |\n",
      "| train/                  |            |\n",
      "|    approx_kl            | 0.00912136 |\n",
      "|    clip_fraction        | 0.00156    |\n",
      "|    clip_range           | 0.2        |\n",
      "|    entropy_loss         | -1.09      |\n",
      "|    explained_variance   | 0.00228    |\n",
      "|    learning_rate        | 0.0003     |\n",
      "|    loss                 | 7.7e+04    |\n",
      "|    n_updates            | 30         |\n",
      "|    policy_gradient_loss | -0.00165   |\n",
      "|    value_loss           | 1.9e+05    |\n",
      "----------------------------------------\n",
      "-----------------------------------------\n",
      "| rollout/                |             |\n",
      "|    ep_len_mean          | 100         |\n",
      "|    ep_rew_mean          | -3.02e+03   |\n",
      "| time/                   |             |\n",
      "|    fps                  | 1094        |\n",
      "|    iterations           | 5           |\n",
      "|    time_elapsed         | 9           |\n",
      "|    total_timesteps      | 10240       |\n",
      "| train/                  |             |\n",
      "|    approx_kl            | 0.008366666 |\n",
      "|    clip_fraction        | 0.0159      |\n",
      "|    clip_range           | 0.2         |\n",
      "|    entropy_loss         | -1.09       |\n",
      "|    explained_variance   | 0.00103     |\n",
      "|    learning_rate        | 0.0003      |\n",
      "|    loss                 | 1.11e+05    |\n",
      "|    n_updates            | 40          |\n",
      "|    policy_gradient_loss | -0.00125    |\n",
      "|    value_loss           | 2.06e+05    |\n",
      "-----------------------------------------\n",
      "Time Step: 1, Vehicle Count: 37, Waiting Time: 0, Light: Red\n",
      "Time Step: 2, Vehicle Count: 34, Waiting Time: 1, Light: Red\n",
      "Time Step: 3, Vehicle Count: 33, Waiting Time: 2, Light: Red\n",
      "Time Step: 4, Vehicle Count: 30, Waiting Time: 3, Light: Red\n",
      "Time Step: 5, Vehicle Count: 27, Waiting Time: 4, Light: Green\n",
      "Time Step: 6, Vehicle Count: 29, Waiting Time: 0, Light: Red\n",
      "Time Step: 7, Vehicle Count: 27, Waiting Time: 1, Light: Red\n",
      "Time Step: 8, Vehicle Count: 31, Waiting Time: 2, Light: Red\n",
      "Time Step: 9, Vehicle Count: 33, Waiting Time: 3, Light: Green\n",
      "Time Step: 10, Vehicle Count: 31, Waiting Time: 0, Light: Red\n",
      "Time Step: 11, Vehicle Count: 28, Waiting Time: 1, Light: Red\n",
      "Time Step: 12, Vehicle Count: 29, Waiting Time: 2, Light: Green\n",
      "Time Step: 13, Vehicle Count: 33, Waiting Time: 0, Light: Green\n",
      "Time Step: 14, Vehicle Count: 31, Waiting Time: 0, Light: Red\n",
      "Time Step: 15, Vehicle Count: 27, Waiting Time: 1, Light: Red\n",
      "Time Step: 16, Vehicle Count: 27, Waiting Time: 2, Light: Red\n",
      "Time Step: 17, Vehicle Count: 31, Waiting Time: 3, Light: Red\n",
      "Time Step: 18, Vehicle Count: 34, Waiting Time: 4, Light: Red\n",
      "Time Step: 19, Vehicle Count: 31, Waiting Time: 5, Light: Red\n",
      "Time Step: 20, Vehicle Count: 35, Waiting Time: 6, Light: Green\n",
      "Time Step: 21, Vehicle Count: 30, Waiting Time: 0, Light: Red\n",
      "Time Step: 22, Vehicle Count: 26, Waiting Time: 1, Light: Red\n",
      "Time Step: 23, Vehicle Count: 24, Waiting Time: 2, Light: Red\n",
      "Time Step: 24, Vehicle Count: 23, Waiting Time: 3, Light: Red\n",
      "Time Step: 25, Vehicle Count: 27, Waiting Time: 4, Light: Red\n",
      "Time Step: 26, Vehicle Count: 24, Waiting Time: 5, Light: Red\n",
      "Time Step: 27, Vehicle Count: 25, Waiting Time: 6, Light: Green\n",
      "Time Step: 28, Vehicle Count: 27, Waiting Time: 0, Light: Green\n",
      "Time Step: 29, Vehicle Count: 29, Waiting Time: 0, Light: Red\n",
      "Time Step: 30, Vehicle Count: 31, Waiting Time: 1, Light: Red\n",
      "Time Step: 31, Vehicle Count: 33, Waiting Time: 2, Light: Green\n",
      "Time Step: 32, Vehicle Count: 33, Waiting Time: 0, Light: Green\n",
      "Time Step: 33, Vehicle Count: 28, Waiting Time: 0, Light: Green\n",
      "Time Step: 34, Vehicle Count: 27, Waiting Time: 0, Light: Red\n",
      "Time Step: 35, Vehicle Count: 22, Waiting Time: 1, Light: Green\n",
      "Time Step: 36, Vehicle Count: 22, Waiting Time: 0, Light: Green\n",
      "Time Step: 37, Vehicle Count: 18, Waiting Time: 0, Light: Red\n",
      "Time Step: 38, Vehicle Count: 13, Waiting Time: 1, Light: Green\n",
      "Time Step: 39, Vehicle Count: 10, Waiting Time: 0, Light: Green\n",
      "Time Step: 40, Vehicle Count: 8, Waiting Time: 0, Light: Red\n",
      "Time Step: 41, Vehicle Count: 9, Waiting Time: 1, Light: Green\n",
      "Time Step: 42, Vehicle Count: 4, Waiting Time: 0, Light: Green\n",
      "Time Step: 43, Vehicle Count: 4, Waiting Time: 0, Light: Red\n",
      "Time Step: 44, Vehicle Count: 2, Waiting Time: 1, Light: Green\n",
      "Time Step: 45, Vehicle Count: 2, Waiting Time: 0, Light: Green\n",
      "Time Step: 46, Vehicle Count: 0, Waiting Time: 0, Light: Green\n",
      "Time Step: 47, Vehicle Count: 0, Waiting Time: 0, Light: Green\n",
      "Time Step: 48, Vehicle Count: 4, Waiting Time: 0, Light: Green\n",
      "Time Step: 49, Vehicle Count: 5, Waiting Time: 0, Light: Green\n",
      "Time Step: 50, Vehicle Count: 7, Waiting Time: 0, Light: Red\n",
      "Time Step: 51, Vehicle Count: 7, Waiting Time: 1, Light: Green\n",
      "Time Step: 52, Vehicle Count: 6, Waiting Time: 0, Light: Green\n",
      "Time Step: 53, Vehicle Count: 8, Waiting Time: 0, Light: Green\n",
      "Time Step: 54, Vehicle Count: 8, Waiting Time: 0, Light: Green\n",
      "Time Step: 55, Vehicle Count: 4, Waiting Time: 0, Light: Red\n",
      "Time Step: 56, Vehicle Count: 2, Waiting Time: 1, Light: Red\n",
      "Time Step: 57, Vehicle Count: 0, Waiting Time: 2, Light: Green\n",
      "Time Step: 58, Vehicle Count: 0, Waiting Time: 0, Light: Red\n",
      "Time Step: 59, Vehicle Count: 0, Waiting Time: 1, Light: Green\n",
      "Time Step: 60, Vehicle Count: 0, Waiting Time: 0, Light: Green\n",
      "Time Step: 61, Vehicle Count: 0, Waiting Time: 0, Light: Green\n",
      "Time Step: 62, Vehicle Count: 2, Waiting Time: 0, Light: Red\n",
      "Time Step: 63, Vehicle Count: 4, Waiting Time: 1, Light: Green\n",
      "Time Step: 64, Vehicle Count: 3, Waiting Time: 0, Light: Green\n",
      "Time Step: 65, Vehicle Count: 4, Waiting Time: 0, Light: Red\n",
      "Time Step: 66, Vehicle Count: 0, Waiting Time: 1, Light: Green\n",
      "Time Step: 67, Vehicle Count: 0, Waiting Time: 0, Light: Red\n",
      "Time Step: 68, Vehicle Count: 0, Waiting Time: 1, Light: Green\n",
      "Time Step: 69, Vehicle Count: 4, Waiting Time: 0, Light: Green\n",
      "Time Step: 70, Vehicle Count: 8, Waiting Time: 0, Light: Green\n",
      "Time Step: 71, Vehicle Count: 8, Waiting Time: 0, Light: Red\n",
      "Time Step: 72, Vehicle Count: 10, Waiting Time: 1, Light: Green\n",
      "Time Step: 73, Vehicle Count: 5, Waiting Time: 0, Light: Green\n",
      "Time Step: 74, Vehicle Count: 2, Waiting Time: 0, Light: Red\n",
      "Time Step: 75, Vehicle Count: 3, Waiting Time: 1, Light: Green\n",
      "Time Step: 76, Vehicle Count: 0, Waiting Time: 0, Light: Red\n",
      "Time Step: 77, Vehicle Count: 0, Waiting Time: 1, Light: Green\n",
      "Time Step: 78, Vehicle Count: 0, Waiting Time: 0, Light: Green\n",
      "Time Step: 79, Vehicle Count: 2, Waiting Time: 0, Light: Red\n",
      "Time Step: 80, Vehicle Count: 5, Waiting Time: 1, Light: Green\n",
      "Time Step: 81, Vehicle Count: 7, Waiting Time: 0, Light: Red\n",
      "Time Step: 82, Vehicle Count: 4, Waiting Time: 1, Light: Red\n",
      "Time Step: 83, Vehicle Count: 0, Waiting Time: 2, Light: Green\n",
      "Time Step: 84, Vehicle Count: 0, Waiting Time: 0, Light: Red\n",
      "Time Step: 85, Vehicle Count: 0, Waiting Time: 1, Light: Red\n",
      "Time Step: 86, Vehicle Count: 0, Waiting Time: 2, Light: Green\n",
      "Time Step: 87, Vehicle Count: 0, Waiting Time: 0, Light: Red\n",
      "Time Step: 88, Vehicle Count: 2, Waiting Time: 1, Light: Red\n",
      "Time Step: 89, Vehicle Count: 5, Waiting Time: 2, Light: Red\n",
      "Time Step: 90, Vehicle Count: 6, Waiting Time: 3, Light: Red\n",
      "Time Step: 91, Vehicle Count: 4, Waiting Time: 4, Light: Green\n",
      "Time Step: 92, Vehicle Count: 8, Waiting Time: 0, Light: Red\n",
      "Time Step: 93, Vehicle Count: 3, Waiting Time: 1, Light: Green\n",
      "Time Step: 94, Vehicle Count: 3, Waiting Time: 0, Light: Green\n",
      "Time Step: 95, Vehicle Count: 6, Waiting Time: 0, Light: Red\n",
      "Time Step: 96, Vehicle Count: 4, Waiting Time: 1, Light: Green\n",
      "Time Step: 97, Vehicle Count: 0, Waiting Time: 0, Light: Green\n",
      "Time Step: 98, Vehicle Count: 0, Waiting Time: 0, Light: Red\n",
      "Time Step: 99, Vehicle Count: 0, Waiting Time: 1, Light: Green\n",
      "Time Step: 100, Vehicle Count: 0, Waiting Time: 0, Light: Green\n"
     ]
    }
   ],
   "source": [
    "import gymnasium as gym\n",
    "import numpy as np\n",
    "from gymnasium import spaces\n",
    "from stable_baselines3 import PPO\n",
    "\n",
    "# Define a custom traffic control environment\n",
    "class TrafficControlEnv(gym.Env):\n",
    "    def __init__(self):\n",
    "        super(TrafficControlEnv, self).__init__()\n",
    "\n",
    "        # Define action and observation space\n",
    "        # Actions: 0 -> Switch to Red, 1 -> Switch to Green, 2 -> Extend Green Light\n",
    "        self.action_space = spaces.Discrete(3)\n",
    "\n",
    "        # Observation space: [vehicle count, average waiting time, traffic density, vehicle type priority]\n",
    "        self.observation_space = spaces.Box(low=0, high=100, shape=(4,), dtype=np.float32)\n",
    "\n",
    "        # Initialize state variables\n",
    "        self.vehicle_count = 0\n",
    "        self.max_vehicles = 100\n",
    "        self.average_waiting_time = 0\n",
    "        self.traffic_density = 0\n",
    "        self.vehicle_type_priority = 0  # Priority given to buses, trucks, etc.\n",
    "\n",
    "        self.green_light_duration = 10\n",
    "        self.current_light_state = 1  # 1 for green light, 0 for red light\n",
    "        self.time_step = 0\n",
    "\n",
    "    def reset(self, seed=None, options=None):\n",
    "        super().reset(seed=seed)\n",
    "\n",
    "        self.vehicle_count = np.random.randint(0, self.max_vehicles)\n",
    "        self.average_waiting_time = 0\n",
    "        self.traffic_density = self.vehicle_count / self.max_vehicles\n",
    "        self.vehicle_type_priority = np.random.uniform(0, 1)  # Random priority for large vehicles\n",
    "\n",
    "        self.current_light_state = 1\n",
    "        self.time_step = 0\n",
    "\n",
    "        return np.array([self.vehicle_count, self.average_waiting_time, self.traffic_density, self.vehicle_type_priority], dtype=np.float32), {}\n",
    "\n",
    "    def step(self, action):\n",
    "        self.time_step += 1\n",
    "\n",
    "        # Update the vehicle count randomly to simulate traffic inflow/outflow\n",
    "        new_vehicle_count = self.vehicle_count + np.random.randint(-5, 5)\n",
    "        new_vehicle_count = max(0, min(self.max_vehicles, new_vehicle_count))\n",
    "\n",
    "        # Update average waiting time (increase when red light, reset when green light)\n",
    "        if self.current_light_state == 0:\n",
    "            self.average_waiting_time += 1\n",
    "        else:\n",
    "            self.average_waiting_time = 0\n",
    "\n",
    "        # Update traffic density based on vehicle count\n",
    "        self.traffic_density = new_vehicle_count / self.max_vehicles\n",
    "\n",
    "        # Update vehicle type priority (random for now, could be based on actual vehicle data)\n",
    "        self.vehicle_type_priority = np.random.uniform(0, 1)\n",
    "\n",
    "        # Handle actions\n",
    "        if action == 0:  # Switch to Red Light\n",
    "            self.current_light_state = 0\n",
    "        elif action == 1:  # Switch to Green Light\n",
    "            self.current_light_state = 1\n",
    "        elif action == 2:  # Extend Green Light\n",
    "            self.current_light_state = 1\n",
    "            self.green_light_duration += 1\n",
    "\n",
    "        # Reward is based on reducing vehicle waiting time and density\n",
    "        reward = -self.average_waiting_time - self.traffic_density * 100\n",
    "\n",
    "        done = self.time_step >= 100\n",
    "\n",
    "        # Update state\n",
    "        self.vehicle_count = new_vehicle_count\n",
    "\n",
    "        return np.array([self.vehicle_count, self.average_waiting_time, self.traffic_density, self.vehicle_type_priority], dtype=np.float32), reward, done, False, {}\n",
    "\n",
    "    def render(self, mode=\"human\"):\n",
    "        print(f\"Time Step: {self.time_step}, Vehicle Count: {self.vehicle_count}, Waiting Time: {self.average_waiting_time}, Light: {'Green' if self.current_light_state else 'Red'}\")\n",
    "\n",
    "\n",
    "# Test the environment\n",
    "env = TrafficControlEnv()\n",
    "\n",
    "# Reset environment before training\n",
    "state, _ = env.reset()\n",
    "\n",
    "# Initialize the PPO model using Stable Baselines3\n",
    "model = PPO(\"MlpPolicy\", env, verbose=1)\n",
    "\n",
    "# Train the model for a certain number of timesteps\n",
    "model.learn(total_timesteps=10000)\n",
    "\n",
    "# Save the trained model\n",
    "model.save(\"traffic_control_agent_v2\")\n",
    "\n",
    "# Test the trained model\n",
    "state, _ = env.reset()\n",
    "for _ in range(100):\n",
    "    action, _states = model.predict(state)\n",
    "    state, reward, done, truncated, info = env.step(action)\n",
    "    env.render()\n",
    "\n",
    "    if done:\n",
    "        break\n",
    "\n",
    "# Close the environment\n",
    "env.close()\n"
   ]
  },
  {
   "cell_type": "code",
   "execution_count": 3,
   "metadata": {},
   "outputs": [
    {
     "name": "stderr",
     "output_type": "stream",
     "text": [
      "Using cache found in C:\\Users\\kligh/.cache\\torch\\hub\\ultralytics_yolov5_master\n",
      "YOLOv5  2024-10-19 Python-3.9.18 torch-2.4.1+cpu CPU\n",
      "\n",
      "Fusing layers... \n",
      "YOLOv5s summary: 213 layers, 7225885 parameters, 0 gradients, 16.4 GFLOPs\n",
      "Adding AutoShape... \n",
      "C:\\Users\\kligh/.cache\\torch\\hub\\ultralytics_yolov5_master\\models\\common.py:892: FutureWarning: `torch.cuda.amp.autocast(args...)` is deprecated. Please use `torch.amp.autocast('cuda', args...)` instead.\n",
      "  with amp.autocast(autocast):\n",
      "C:\\Users\\kligh/.cache\\torch\\hub\\ultralytics_yolov5_master\\models\\common.py:892: FutureWarning: `torch.cuda.amp.autocast(args...)` is deprecated. Please use `torch.amp.autocast('cuda', args...)` instead.\n",
      "  with amp.autocast(autocast):\n"
     ]
    },
    {
     "name": "stdout",
     "output_type": "stream",
     "text": [
      "Using cpu device\n",
      "Wrapping the env with a `Monitor` wrapper\n",
      "Wrapping the env in a DummyVecEnv.\n",
      "Time Step: 1, Vehicle Count: 2, Waiting Time: 0, Light: Green\n",
      "Time Step: 2, Vehicle Count: 4, Waiting Time: 0, Light: Green\n",
      "Time Step: 3, Vehicle Count: 2, Waiting Time: 0, Light: Green\n"
     ]
    },
    {
     "name": "stderr",
     "output_type": "stream",
     "text": [
      "C:\\Users\\kligh/.cache\\torch\\hub\\ultralytics_yolov5_master\\models\\common.py:892: FutureWarning: `torch.cuda.amp.autocast(args...)` is deprecated. Please use `torch.amp.autocast('cuda', args...)` instead.\n",
      "  with amp.autocast(autocast):\n",
      "C:\\Users\\kligh/.cache\\torch\\hub\\ultralytics_yolov5_master\\models\\common.py:892: FutureWarning: `torch.cuda.amp.autocast(args...)` is deprecated. Please use `torch.amp.autocast('cuda', args...)` instead.\n",
      "  with amp.autocast(autocast):\n"
     ]
    },
    {
     "name": "stdout",
     "output_type": "stream",
     "text": [
      "Time Step: 4, Vehicle Count: 3, Waiting Time: 0, Light: Green\n",
      "Time Step: 5, Vehicle Count: 3, Waiting Time: 0, Light: Red\n",
      "Time Step: 6, Vehicle Count: 1, Waiting Time: 1, Light: Green\n"
     ]
    },
    {
     "name": "stderr",
     "output_type": "stream",
     "text": [
      "C:\\Users\\kligh/.cache\\torch\\hub\\ultralytics_yolov5_master\\models\\common.py:892: FutureWarning: `torch.cuda.amp.autocast(args...)` is deprecated. Please use `torch.amp.autocast('cuda', args...)` instead.\n",
      "  with amp.autocast(autocast):\n",
      "C:\\Users\\kligh/.cache\\torch\\hub\\ultralytics_yolov5_master\\models\\common.py:892: FutureWarning: `torch.cuda.amp.autocast(args...)` is deprecated. Please use `torch.amp.autocast('cuda', args...)` instead.\n",
      "  with amp.autocast(autocast):\n",
      "C:\\Users\\kligh/.cache\\torch\\hub\\ultralytics_yolov5_master\\models\\common.py:892: FutureWarning: `torch.cuda.amp.autocast(args...)` is deprecated. Please use `torch.amp.autocast('cuda', args...)` instead.\n",
      "  with amp.autocast(autocast):\n"
     ]
    },
    {
     "name": "stdout",
     "output_type": "stream",
     "text": [
      "Time Step: 7, Vehicle Count: 2, Waiting Time: 0, Light: Red\n",
      "Time Step: 8, Vehicle Count: 1, Waiting Time: 1, Light: Green\n",
      "Time Step: 9, Vehicle Count: 2, Waiting Time: 0, Light: Green\n"
     ]
    },
    {
     "name": "stderr",
     "output_type": "stream",
     "text": [
      "C:\\Users\\kligh/.cache\\torch\\hub\\ultralytics_yolov5_master\\models\\common.py:892: FutureWarning: `torch.cuda.amp.autocast(args...)` is deprecated. Please use `torch.amp.autocast('cuda', args...)` instead.\n",
      "  with amp.autocast(autocast):\n",
      "C:\\Users\\kligh/.cache\\torch\\hub\\ultralytics_yolov5_master\\models\\common.py:892: FutureWarning: `torch.cuda.amp.autocast(args...)` is deprecated. Please use `torch.amp.autocast('cuda', args...)` instead.\n",
      "  with amp.autocast(autocast):\n",
      "C:\\Users\\kligh/.cache\\torch\\hub\\ultralytics_yolov5_master\\models\\common.py:892: FutureWarning: `torch.cuda.amp.autocast(args...)` is deprecated. Please use `torch.amp.autocast('cuda', args...)` instead.\n",
      "  with amp.autocast(autocast):\n"
     ]
    },
    {
     "name": "stdout",
     "output_type": "stream",
     "text": [
      "Time Step: 10, Vehicle Count: 2, Waiting Time: 0, Light: Red\n",
      "Time Step: 11, Vehicle Count: 2, Waiting Time: 1, Light: Green\n"
     ]
    },
    {
     "name": "stderr",
     "output_type": "stream",
     "text": [
      "C:\\Users\\kligh/.cache\\torch\\hub\\ultralytics_yolov5_master\\models\\common.py:892: FutureWarning: `torch.cuda.amp.autocast(args...)` is deprecated. Please use `torch.amp.autocast('cuda', args...)` instead.\n",
      "  with amp.autocast(autocast):\n",
      "C:\\Users\\kligh/.cache\\torch\\hub\\ultralytics_yolov5_master\\models\\common.py:892: FutureWarning: `torch.cuda.amp.autocast(args...)` is deprecated. Please use `torch.amp.autocast('cuda', args...)` instead.\n",
      "  with amp.autocast(autocast):\n"
     ]
    },
    {
     "name": "stdout",
     "output_type": "stream",
     "text": [
      "Time Step: 12, Vehicle Count: 2, Waiting Time: 0, Light: Green\n",
      "Time Step: 13, Vehicle Count: 1, Waiting Time: 0, Light: Green\n"
     ]
    },
    {
     "name": "stderr",
     "output_type": "stream",
     "text": [
      "C:\\Users\\kligh/.cache\\torch\\hub\\ultralytics_yolov5_master\\models\\common.py:892: FutureWarning: `torch.cuda.amp.autocast(args...)` is deprecated. Please use `torch.amp.autocast('cuda', args...)` instead.\n",
      "  with amp.autocast(autocast):\n",
      "C:\\Users\\kligh/.cache\\torch\\hub\\ultralytics_yolov5_master\\models\\common.py:892: FutureWarning: `torch.cuda.amp.autocast(args...)` is deprecated. Please use `torch.amp.autocast('cuda', args...)` instead.\n",
      "  with amp.autocast(autocast):\n"
     ]
    },
    {
     "name": "stdout",
     "output_type": "stream",
     "text": [
      "Time Step: 14, Vehicle Count: 1, Waiting Time: 0, Light: Green\n",
      "Time Step: 15, Vehicle Count: 2, Waiting Time: 0, Light: Red\n",
      "Time Step: 16, Vehicle Count: 1, Waiting Time: 1, Light: Green\n"
     ]
    },
    {
     "name": "stderr",
     "output_type": "stream",
     "text": [
      "C:\\Users\\kligh/.cache\\torch\\hub\\ultralytics_yolov5_master\\models\\common.py:892: FutureWarning: `torch.cuda.amp.autocast(args...)` is deprecated. Please use `torch.amp.autocast('cuda', args...)` instead.\n",
      "  with amp.autocast(autocast):\n",
      "C:\\Users\\kligh/.cache\\torch\\hub\\ultralytics_yolov5_master\\models\\common.py:892: FutureWarning: `torch.cuda.amp.autocast(args...)` is deprecated. Please use `torch.amp.autocast('cuda', args...)` instead.\n",
      "  with amp.autocast(autocast):\n",
      "C:\\Users\\kligh/.cache\\torch\\hub\\ultralytics_yolov5_master\\models\\common.py:892: FutureWarning: `torch.cuda.amp.autocast(args...)` is deprecated. Please use `torch.amp.autocast('cuda', args...)` instead.\n",
      "  with amp.autocast(autocast):\n"
     ]
    },
    {
     "name": "stdout",
     "output_type": "stream",
     "text": [
      "Time Step: 17, Vehicle Count: 1, Waiting Time: 0, Light: Red\n",
      "Time Step: 18, Vehicle Count: 2, Waiting Time: 1, Light: Green\n",
      "Time Step: 19, Vehicle Count: 1, Waiting Time: 0, Light: Green\n"
     ]
    },
    {
     "name": "stderr",
     "output_type": "stream",
     "text": [
      "C:\\Users\\kligh/.cache\\torch\\hub\\ultralytics_yolov5_master\\models\\common.py:892: FutureWarning: `torch.cuda.amp.autocast(args...)` is deprecated. Please use `torch.amp.autocast('cuda', args...)` instead.\n",
      "  with amp.autocast(autocast):\n",
      "C:\\Users\\kligh/.cache\\torch\\hub\\ultralytics_yolov5_master\\models\\common.py:892: FutureWarning: `torch.cuda.amp.autocast(args...)` is deprecated. Please use `torch.amp.autocast('cuda', args...)` instead.\n",
      "  with amp.autocast(autocast):\n",
      "C:\\Users\\kligh/.cache\\torch\\hub\\ultralytics_yolov5_master\\models\\common.py:892: FutureWarning: `torch.cuda.amp.autocast(args...)` is deprecated. Please use `torch.amp.autocast('cuda', args...)` instead.\n",
      "  with amp.autocast(autocast):\n"
     ]
    },
    {
     "name": "stdout",
     "output_type": "stream",
     "text": [
      "Time Step: 20, Vehicle Count: 1, Waiting Time: 0, Light: Green\n",
      "Time Step: 21, Vehicle Count: 1, Waiting Time: 0, Light: Red\n",
      "Time Step: 22, Vehicle Count: 1, Waiting Time: 1, Light: Green\n"
     ]
    },
    {
     "name": "stderr",
     "output_type": "stream",
     "text": [
      "C:\\Users\\kligh/.cache\\torch\\hub\\ultralytics_yolov5_master\\models\\common.py:892: FutureWarning: `torch.cuda.amp.autocast(args...)` is deprecated. Please use `torch.amp.autocast('cuda', args...)` instead.\n",
      "  with amp.autocast(autocast):\n",
      "C:\\Users\\kligh/.cache\\torch\\hub\\ultralytics_yolov5_master\\models\\common.py:892: FutureWarning: `torch.cuda.amp.autocast(args...)` is deprecated. Please use `torch.amp.autocast('cuda', args...)` instead.\n",
      "  with amp.autocast(autocast):\n",
      "C:\\Users\\kligh/.cache\\torch\\hub\\ultralytics_yolov5_master\\models\\common.py:892: FutureWarning: `torch.cuda.amp.autocast(args...)` is deprecated. Please use `torch.amp.autocast('cuda', args...)` instead.\n",
      "  with amp.autocast(autocast):\n"
     ]
    },
    {
     "name": "stdout",
     "output_type": "stream",
     "text": [
      "Time Step: 23, Vehicle Count: 1, Waiting Time: 0, Light: Red\n",
      "Time Step: 24, Vehicle Count: 1, Waiting Time: 1, Light: Green\n",
      "Time Step: 25, Vehicle Count: 1, Waiting Time: 0, Light: Green\n"
     ]
    },
    {
     "name": "stderr",
     "output_type": "stream",
     "text": [
      "C:\\Users\\kligh/.cache\\torch\\hub\\ultralytics_yolov5_master\\models\\common.py:892: FutureWarning: `torch.cuda.amp.autocast(args...)` is deprecated. Please use `torch.amp.autocast('cuda', args...)` instead.\n",
      "  with amp.autocast(autocast):\n",
      "C:\\Users\\kligh/.cache\\torch\\hub\\ultralytics_yolov5_master\\models\\common.py:892: FutureWarning: `torch.cuda.amp.autocast(args...)` is deprecated. Please use `torch.amp.autocast('cuda', args...)` instead.\n",
      "  with amp.autocast(autocast):\n",
      "C:\\Users\\kligh/.cache\\torch\\hub\\ultralytics_yolov5_master\\models\\common.py:892: FutureWarning: `torch.cuda.amp.autocast(args...)` is deprecated. Please use `torch.amp.autocast('cuda', args...)` instead.\n",
      "  with amp.autocast(autocast):\n"
     ]
    },
    {
     "name": "stdout",
     "output_type": "stream",
     "text": [
      "Time Step: 26, Vehicle Count: 1, Waiting Time: 0, Light: Green\n",
      "Time Step: 27, Vehicle Count: 1, Waiting Time: 0, Light: Red\n",
      "Time Step: 28, Vehicle Count: 1, Waiting Time: 1, Light: Green\n"
     ]
    },
    {
     "name": "stderr",
     "output_type": "stream",
     "text": [
      "C:\\Users\\kligh/.cache\\torch\\hub\\ultralytics_yolov5_master\\models\\common.py:892: FutureWarning: `torch.cuda.amp.autocast(args...)` is deprecated. Please use `torch.amp.autocast('cuda', args...)` instead.\n",
      "  with amp.autocast(autocast):\n",
      "C:\\Users\\kligh/.cache\\torch\\hub\\ultralytics_yolov5_master\\models\\common.py:892: FutureWarning: `torch.cuda.amp.autocast(args...)` is deprecated. Please use `torch.amp.autocast('cuda', args...)` instead.\n",
      "  with amp.autocast(autocast):\n",
      "C:\\Users\\kligh/.cache\\torch\\hub\\ultralytics_yolov5_master\\models\\common.py:892: FutureWarning: `torch.cuda.amp.autocast(args...)` is deprecated. Please use `torch.amp.autocast('cuda', args...)` instead.\n",
      "  with amp.autocast(autocast):\n"
     ]
    },
    {
     "name": "stdout",
     "output_type": "stream",
     "text": [
      "Time Step: 29, Vehicle Count: 1, Waiting Time: 0, Light: Green\n",
      "Time Step: 30, Vehicle Count: 1, Waiting Time: 0, Light: Green\n",
      "Time Step: 31, Vehicle Count: 1, Waiting Time: 0, Light: Green\n"
     ]
    },
    {
     "name": "stderr",
     "output_type": "stream",
     "text": [
      "C:\\Users\\kligh/.cache\\torch\\hub\\ultralytics_yolov5_master\\models\\common.py:892: FutureWarning: `torch.cuda.amp.autocast(args...)` is deprecated. Please use `torch.amp.autocast('cuda', args...)` instead.\n",
      "  with amp.autocast(autocast):\n",
      "C:\\Users\\kligh/.cache\\torch\\hub\\ultralytics_yolov5_master\\models\\common.py:892: FutureWarning: `torch.cuda.amp.autocast(args...)` is deprecated. Please use `torch.amp.autocast('cuda', args...)` instead.\n",
      "  with amp.autocast(autocast):\n",
      "C:\\Users\\kligh/.cache\\torch\\hub\\ultralytics_yolov5_master\\models\\common.py:892: FutureWarning: `torch.cuda.amp.autocast(args...)` is deprecated. Please use `torch.amp.autocast('cuda', args...)` instead.\n",
      "  with amp.autocast(autocast):\n"
     ]
    },
    {
     "name": "stdout",
     "output_type": "stream",
     "text": [
      "Time Step: 32, Vehicle Count: 1, Waiting Time: 0, Light: Green\n",
      "Time Step: 33, Vehicle Count: 1, Waiting Time: 0, Light: Green\n",
      "Time Step: 34, Vehicle Count: 0, Waiting Time: 0, Light: Green\n"
     ]
    },
    {
     "name": "stderr",
     "output_type": "stream",
     "text": [
      "C:\\Users\\kligh/.cache\\torch\\hub\\ultralytics_yolov5_master\\models\\common.py:892: FutureWarning: `torch.cuda.amp.autocast(args...)` is deprecated. Please use `torch.amp.autocast('cuda', args...)` instead.\n",
      "  with amp.autocast(autocast):\n",
      "C:\\Users\\kligh/.cache\\torch\\hub\\ultralytics_yolov5_master\\models\\common.py:892: FutureWarning: `torch.cuda.amp.autocast(args...)` is deprecated. Please use `torch.amp.autocast('cuda', args...)` instead.\n",
      "  with amp.autocast(autocast):\n",
      "C:\\Users\\kligh/.cache\\torch\\hub\\ultralytics_yolov5_master\\models\\common.py:892: FutureWarning: `torch.cuda.amp.autocast(args...)` is deprecated. Please use `torch.amp.autocast('cuda', args...)` instead.\n",
      "  with amp.autocast(autocast):\n"
     ]
    },
    {
     "name": "stdout",
     "output_type": "stream",
     "text": [
      "Time Step: 35, Vehicle Count: 1, Waiting Time: 0, Light: Green\n",
      "Time Step: 36, Vehicle Count: 1, Waiting Time: 0, Light: Red\n",
      "Time Step: 37, Vehicle Count: 1, Waiting Time: 1, Light: Green\n"
     ]
    },
    {
     "name": "stderr",
     "output_type": "stream",
     "text": [
      "C:\\Users\\kligh/.cache\\torch\\hub\\ultralytics_yolov5_master\\models\\common.py:892: FutureWarning: `torch.cuda.amp.autocast(args...)` is deprecated. Please use `torch.amp.autocast('cuda', args...)` instead.\n",
      "  with amp.autocast(autocast):\n",
      "C:\\Users\\kligh/.cache\\torch\\hub\\ultralytics_yolov5_master\\models\\common.py:892: FutureWarning: `torch.cuda.amp.autocast(args...)` is deprecated. Please use `torch.amp.autocast('cuda', args...)` instead.\n",
      "  with amp.autocast(autocast):\n",
      "C:\\Users\\kligh/.cache\\torch\\hub\\ultralytics_yolov5_master\\models\\common.py:892: FutureWarning: `torch.cuda.amp.autocast(args...)` is deprecated. Please use `torch.amp.autocast('cuda', args...)` instead.\n",
      "  with amp.autocast(autocast):\n"
     ]
    },
    {
     "name": "stdout",
     "output_type": "stream",
     "text": [
      "Time Step: 38, Vehicle Count: 0, Waiting Time: 0, Light: Red\n",
      "Time Step: 39, Vehicle Count: 0, Waiting Time: 1, Light: Green\n"
     ]
    },
    {
     "name": "stderr",
     "output_type": "stream",
     "text": [
      "C:\\Users\\kligh/.cache\\torch\\hub\\ultralytics_yolov5_master\\models\\common.py:892: FutureWarning: `torch.cuda.amp.autocast(args...)` is deprecated. Please use `torch.amp.autocast('cuda', args...)` instead.\n",
      "  with amp.autocast(autocast):\n",
      "C:\\Users\\kligh/.cache\\torch\\hub\\ultralytics_yolov5_master\\models\\common.py:892: FutureWarning: `torch.cuda.amp.autocast(args...)` is deprecated. Please use `torch.amp.autocast('cuda', args...)` instead.\n",
      "  with amp.autocast(autocast):\n"
     ]
    },
    {
     "name": "stdout",
     "output_type": "stream",
     "text": [
      "Time Step: 40, Vehicle Count: 0, Waiting Time: 0, Light: Green\n",
      "Time Step: 41, Vehicle Count: 0, Waiting Time: 0, Light: Red\n",
      "Time Step: 42, Vehicle Count: 0, Waiting Time: 1, Light: Green\n"
     ]
    },
    {
     "name": "stderr",
     "output_type": "stream",
     "text": [
      "C:\\Users\\kligh/.cache\\torch\\hub\\ultralytics_yolov5_master\\models\\common.py:892: FutureWarning: `torch.cuda.amp.autocast(args...)` is deprecated. Please use `torch.amp.autocast('cuda', args...)` instead.\n",
      "  with amp.autocast(autocast):\n",
      "C:\\Users\\kligh/.cache\\torch\\hub\\ultralytics_yolov5_master\\models\\common.py:892: FutureWarning: `torch.cuda.amp.autocast(args...)` is deprecated. Please use `torch.amp.autocast('cuda', args...)` instead.\n",
      "  with amp.autocast(autocast):\n",
      "C:\\Users\\kligh/.cache\\torch\\hub\\ultralytics_yolov5_master\\models\\common.py:892: FutureWarning: `torch.cuda.amp.autocast(args...)` is deprecated. Please use `torch.amp.autocast('cuda', args...)` instead.\n",
      "  with amp.autocast(autocast):\n"
     ]
    },
    {
     "name": "stdout",
     "output_type": "stream",
     "text": [
      "Time Step: 43, Vehicle Count: 0, Waiting Time: 0, Light: Red\n",
      "Time Step: 44, Vehicle Count: 0, Waiting Time: 1, Light: Red\n"
     ]
    },
    {
     "name": "stderr",
     "output_type": "stream",
     "text": [
      "C:\\Users\\kligh/.cache\\torch\\hub\\ultralytics_yolov5_master\\models\\common.py:892: FutureWarning: `torch.cuda.amp.autocast(args...)` is deprecated. Please use `torch.amp.autocast('cuda', args...)` instead.\n",
      "  with amp.autocast(autocast):\n",
      "C:\\Users\\kligh/.cache\\torch\\hub\\ultralytics_yolov5_master\\models\\common.py:892: FutureWarning: `torch.cuda.amp.autocast(args...)` is deprecated. Please use `torch.amp.autocast('cuda', args...)` instead.\n",
      "  with amp.autocast(autocast):\n"
     ]
    },
    {
     "name": "stdout",
     "output_type": "stream",
     "text": [
      "Time Step: 45, Vehicle Count: 0, Waiting Time: 2, Light: Green\n",
      "Time Step: 46, Vehicle Count: 0, Waiting Time: 0, Light: Red\n"
     ]
    },
    {
     "name": "stderr",
     "output_type": "stream",
     "text": [
      "C:\\Users\\kligh/.cache\\torch\\hub\\ultralytics_yolov5_master\\models\\common.py:892: FutureWarning: `torch.cuda.amp.autocast(args...)` is deprecated. Please use `torch.amp.autocast('cuda', args...)` instead.\n",
      "  with amp.autocast(autocast):\n",
      "C:\\Users\\kligh/.cache\\torch\\hub\\ultralytics_yolov5_master\\models\\common.py:892: FutureWarning: `torch.cuda.amp.autocast(args...)` is deprecated. Please use `torch.amp.autocast('cuda', args...)` instead.\n",
      "  with amp.autocast(autocast):\n"
     ]
    },
    {
     "name": "stdout",
     "output_type": "stream",
     "text": [
      "Time Step: 47, Vehicle Count: 0, Waiting Time: 1, Light: Red\n",
      "Time Step: 48, Vehicle Count: 0, Waiting Time: 2, Light: Red\n"
     ]
    },
    {
     "name": "stderr",
     "output_type": "stream",
     "text": [
      "C:\\Users\\kligh/.cache\\torch\\hub\\ultralytics_yolov5_master\\models\\common.py:892: FutureWarning: `torch.cuda.amp.autocast(args...)` is deprecated. Please use `torch.amp.autocast('cuda', args...)` instead.\n",
      "  with amp.autocast(autocast):\n",
      "C:\\Users\\kligh/.cache\\torch\\hub\\ultralytics_yolov5_master\\models\\common.py:892: FutureWarning: `torch.cuda.amp.autocast(args...)` is deprecated. Please use `torch.amp.autocast('cuda', args...)` instead.\n",
      "  with amp.autocast(autocast):\n"
     ]
    },
    {
     "name": "stdout",
     "output_type": "stream",
     "text": [
      "Time Step: 49, Vehicle Count: 0, Waiting Time: 3, Light: Green\n",
      "Time Step: 50, Vehicle Count: 0, Waiting Time: 0, Light: Green\n",
      "Time Step: 51, Vehicle Count: 0, Waiting Time: 0, Light: Red\n"
     ]
    },
    {
     "name": "stderr",
     "output_type": "stream",
     "text": [
      "C:\\Users\\kligh/.cache\\torch\\hub\\ultralytics_yolov5_master\\models\\common.py:892: FutureWarning: `torch.cuda.amp.autocast(args...)` is deprecated. Please use `torch.amp.autocast('cuda', args...)` instead.\n",
      "  with amp.autocast(autocast):\n",
      "C:\\Users\\kligh/.cache\\torch\\hub\\ultralytics_yolov5_master\\models\\common.py:892: FutureWarning: `torch.cuda.amp.autocast(args...)` is deprecated. Please use `torch.amp.autocast('cuda', args...)` instead.\n",
      "  with amp.autocast(autocast):\n",
      "C:\\Users\\kligh/.cache\\torch\\hub\\ultralytics_yolov5_master\\models\\common.py:892: FutureWarning: `torch.cuda.amp.autocast(args...)` is deprecated. Please use `torch.amp.autocast('cuda', args...)` instead.\n",
      "  with amp.autocast(autocast):\n"
     ]
    },
    {
     "name": "stdout",
     "output_type": "stream",
     "text": [
      "Time Step: 52, Vehicle Count: 0, Waiting Time: 1, Light: Green\n",
      "Time Step: 53, Vehicle Count: 0, Waiting Time: 0, Light: Green\n"
     ]
    },
    {
     "name": "stderr",
     "output_type": "stream",
     "text": [
      "C:\\Users\\kligh/.cache\\torch\\hub\\ultralytics_yolov5_master\\models\\common.py:892: FutureWarning: `torch.cuda.amp.autocast(args...)` is deprecated. Please use `torch.amp.autocast('cuda', args...)` instead.\n",
      "  with amp.autocast(autocast):\n",
      "C:\\Users\\kligh/.cache\\torch\\hub\\ultralytics_yolov5_master\\models\\common.py:892: FutureWarning: `torch.cuda.amp.autocast(args...)` is deprecated. Please use `torch.amp.autocast('cuda', args...)` instead.\n",
      "  with amp.autocast(autocast):\n"
     ]
    },
    {
     "name": "stdout",
     "output_type": "stream",
     "text": [
      "Time Step: 54, Vehicle Count: 0, Waiting Time: 0, Light: Green\n",
      "Time Step: 55, Vehicle Count: 0, Waiting Time: 0, Light: Red\n",
      "Time Step: 56, Vehicle Count: 0, Waiting Time: 1, Light: Green\n"
     ]
    },
    {
     "name": "stderr",
     "output_type": "stream",
     "text": [
      "C:\\Users\\kligh/.cache\\torch\\hub\\ultralytics_yolov5_master\\models\\common.py:892: FutureWarning: `torch.cuda.amp.autocast(args...)` is deprecated. Please use `torch.amp.autocast('cuda', args...)` instead.\n",
      "  with amp.autocast(autocast):\n",
      "C:\\Users\\kligh/.cache\\torch\\hub\\ultralytics_yolov5_master\\models\\common.py:892: FutureWarning: `torch.cuda.amp.autocast(args...)` is deprecated. Please use `torch.amp.autocast('cuda', args...)` instead.\n",
      "  with amp.autocast(autocast):\n",
      "C:\\Users\\kligh/.cache\\torch\\hub\\ultralytics_yolov5_master\\models\\common.py:892: FutureWarning: `torch.cuda.amp.autocast(args...)` is deprecated. Please use `torch.amp.autocast('cuda', args...)` instead.\n",
      "  with amp.autocast(autocast):\n",
      "C:\\Users\\kligh/.cache\\torch\\hub\\ultralytics_yolov5_master\\models\\common.py:892: FutureWarning: `torch.cuda.amp.autocast(args...)` is deprecated. Please use `torch.amp.autocast('cuda', args...)` instead.\n",
      "  with amp.autocast(autocast):\n",
      "C:\\Users\\kligh/.cache\\torch\\hub\\ultralytics_yolov5_master\\models\\common.py:892: FutureWarning: `torch.cuda.amp.autocast(args...)` is deprecated. Please use `torch.amp.autocast('cuda', args...)` instead.\n",
      "  with amp.autocast(autocast):\n"
     ]
    },
    {
     "name": "stdout",
     "output_type": "stream",
     "text": [
      "Time Step: 57, Vehicle Count: 0, Waiting Time: 0, Light: Green\n",
      "Time Step: 58, Vehicle Count: 0, Waiting Time: 0, Light: Green\n",
      "Time Step: 59, Vehicle Count: 0, Waiting Time: 0, Light: Red\n"
     ]
    },
    {
     "name": "stderr",
     "output_type": "stream",
     "text": [
      "C:\\Users\\kligh/.cache\\torch\\hub\\ultralytics_yolov5_master\\models\\common.py:892: FutureWarning: `torch.cuda.amp.autocast(args...)` is deprecated. Please use `torch.amp.autocast('cuda', args...)` instead.\n",
      "  with amp.autocast(autocast):\n",
      "C:\\Users\\kligh/.cache\\torch\\hub\\ultralytics_yolov5_master\\models\\common.py:892: FutureWarning: `torch.cuda.amp.autocast(args...)` is deprecated. Please use `torch.amp.autocast('cuda', args...)` instead.\n",
      "  with amp.autocast(autocast):\n"
     ]
    },
    {
     "name": "stdout",
     "output_type": "stream",
     "text": [
      "Time Step: 60, Vehicle Count: 0, Waiting Time: 1, Light: Red\n",
      "Time Step: 61, Vehicle Count: 0, Waiting Time: 2, Light: Red\n",
      "Time Step: 62, Vehicle Count: 0, Waiting Time: 3, Light: Green\n"
     ]
    },
    {
     "name": "stderr",
     "output_type": "stream",
     "text": [
      "C:\\Users\\kligh/.cache\\torch\\hub\\ultralytics_yolov5_master\\models\\common.py:892: FutureWarning: `torch.cuda.amp.autocast(args...)` is deprecated. Please use `torch.amp.autocast('cuda', args...)` instead.\n",
      "  with amp.autocast(autocast):\n",
      "C:\\Users\\kligh/.cache\\torch\\hub\\ultralytics_yolov5_master\\models\\common.py:892: FutureWarning: `torch.cuda.amp.autocast(args...)` is deprecated. Please use `torch.amp.autocast('cuda', args...)` instead.\n",
      "  with amp.autocast(autocast):\n"
     ]
    },
    {
     "name": "stdout",
     "output_type": "stream",
     "text": [
      "Time Step: 63, Vehicle Count: 0, Waiting Time: 0, Light: Green\n",
      "Time Step: 64, Vehicle Count: 0, Waiting Time: 0, Light: Green\n",
      "Time Step: 65, Vehicle Count: 0, Waiting Time: 0, Light: Green\n"
     ]
    },
    {
     "name": "stderr",
     "output_type": "stream",
     "text": [
      "C:\\Users\\kligh/.cache\\torch\\hub\\ultralytics_yolov5_master\\models\\common.py:892: FutureWarning: `torch.cuda.amp.autocast(args...)` is deprecated. Please use `torch.amp.autocast('cuda', args...)` instead.\n",
      "  with amp.autocast(autocast):\n",
      "C:\\Users\\kligh/.cache\\torch\\hub\\ultralytics_yolov5_master\\models\\common.py:892: FutureWarning: `torch.cuda.amp.autocast(args...)` is deprecated. Please use `torch.amp.autocast('cuda', args...)` instead.\n",
      "  with amp.autocast(autocast):\n",
      "C:\\Users\\kligh/.cache\\torch\\hub\\ultralytics_yolov5_master\\models\\common.py:892: FutureWarning: `torch.cuda.amp.autocast(args...)` is deprecated. Please use `torch.amp.autocast('cuda', args...)` instead.\n",
      "  with amp.autocast(autocast):\n"
     ]
    },
    {
     "name": "stdout",
     "output_type": "stream",
     "text": [
      "Time Step: 66, Vehicle Count: 0, Waiting Time: 0, Light: Green\n",
      "Time Step: 67, Vehicle Count: 0, Waiting Time: 0, Light: Green\n",
      "Time Step: 68, Vehicle Count: 0, Waiting Time: 0, Light: Green\n"
     ]
    },
    {
     "name": "stderr",
     "output_type": "stream",
     "text": [
      "C:\\Users\\kligh/.cache\\torch\\hub\\ultralytics_yolov5_master\\models\\common.py:892: FutureWarning: `torch.cuda.amp.autocast(args...)` is deprecated. Please use `torch.amp.autocast('cuda', args...)` instead.\n",
      "  with amp.autocast(autocast):\n",
      "C:\\Users\\kligh/.cache\\torch\\hub\\ultralytics_yolov5_master\\models\\common.py:892: FutureWarning: `torch.cuda.amp.autocast(args...)` is deprecated. Please use `torch.amp.autocast('cuda', args...)` instead.\n",
      "  with amp.autocast(autocast):\n",
      "C:\\Users\\kligh/.cache\\torch\\hub\\ultralytics_yolov5_master\\models\\common.py:892: FutureWarning: `torch.cuda.amp.autocast(args...)` is deprecated. Please use `torch.amp.autocast('cuda', args...)` instead.\n",
      "  with amp.autocast(autocast):\n"
     ]
    },
    {
     "name": "stdout",
     "output_type": "stream",
     "text": [
      "Time Step: 69, Vehicle Count: 0, Waiting Time: 0, Light: Red\n",
      "Time Step: 70, Vehicle Count: 0, Waiting Time: 1, Light: Green\n",
      "Time Step: 71, Vehicle Count: 0, Waiting Time: 0, Light: Green\n"
     ]
    },
    {
     "name": "stderr",
     "output_type": "stream",
     "text": [
      "C:\\Users\\kligh/.cache\\torch\\hub\\ultralytics_yolov5_master\\models\\common.py:892: FutureWarning: `torch.cuda.amp.autocast(args...)` is deprecated. Please use `torch.amp.autocast('cuda', args...)` instead.\n",
      "  with amp.autocast(autocast):\n",
      "C:\\Users\\kligh/.cache\\torch\\hub\\ultralytics_yolov5_master\\models\\common.py:892: FutureWarning: `torch.cuda.amp.autocast(args...)` is deprecated. Please use `torch.amp.autocast('cuda', args...)` instead.\n",
      "  with amp.autocast(autocast):\n",
      "C:\\Users\\kligh/.cache\\torch\\hub\\ultralytics_yolov5_master\\models\\common.py:892: FutureWarning: `torch.cuda.amp.autocast(args...)` is deprecated. Please use `torch.amp.autocast('cuda', args...)` instead.\n",
      "  with amp.autocast(autocast):\n"
     ]
    },
    {
     "name": "stdout",
     "output_type": "stream",
     "text": [
      "Time Step: 72, Vehicle Count: 0, Waiting Time: 0, Light: Red\n",
      "Time Step: 73, Vehicle Count: 0, Waiting Time: 1, Light: Green\n",
      "Time Step: 74, Vehicle Count: 0, Waiting Time: 0, Light: Green\n"
     ]
    },
    {
     "name": "stderr",
     "output_type": "stream",
     "text": [
      "C:\\Users\\kligh/.cache\\torch\\hub\\ultralytics_yolov5_master\\models\\common.py:892: FutureWarning: `torch.cuda.amp.autocast(args...)` is deprecated. Please use `torch.amp.autocast('cuda', args...)` instead.\n",
      "  with amp.autocast(autocast):\n",
      "C:\\Users\\kligh/.cache\\torch\\hub\\ultralytics_yolov5_master\\models\\common.py:892: FutureWarning: `torch.cuda.amp.autocast(args...)` is deprecated. Please use `torch.amp.autocast('cuda', args...)` instead.\n",
      "  with amp.autocast(autocast):\n",
      "C:\\Users\\kligh/.cache\\torch\\hub\\ultralytics_yolov5_master\\models\\common.py:892: FutureWarning: `torch.cuda.amp.autocast(args...)` is deprecated. Please use `torch.amp.autocast('cuda', args...)` instead.\n",
      "  with amp.autocast(autocast):\n"
     ]
    },
    {
     "name": "stdout",
     "output_type": "stream",
     "text": [
      "Time Step: 75, Vehicle Count: 0, Waiting Time: 0, Light: Green\n",
      "Time Step: 76, Vehicle Count: 0, Waiting Time: 0, Light: Green\n",
      "Time Step: 77, Vehicle Count: 0, Waiting Time: 0, Light: Red\n"
     ]
    },
    {
     "name": "stderr",
     "output_type": "stream",
     "text": [
      "C:\\Users\\kligh/.cache\\torch\\hub\\ultralytics_yolov5_master\\models\\common.py:892: FutureWarning: `torch.cuda.amp.autocast(args...)` is deprecated. Please use `torch.amp.autocast('cuda', args...)` instead.\n",
      "  with amp.autocast(autocast):\n",
      "C:\\Users\\kligh/.cache\\torch\\hub\\ultralytics_yolov5_master\\models\\common.py:892: FutureWarning: `torch.cuda.amp.autocast(args...)` is deprecated. Please use `torch.amp.autocast('cuda', args...)` instead.\n",
      "  with amp.autocast(autocast):\n",
      "C:\\Users\\kligh/.cache\\torch\\hub\\ultralytics_yolov5_master\\models\\common.py:892: FutureWarning: `torch.cuda.amp.autocast(args...)` is deprecated. Please use `torch.amp.autocast('cuda', args...)` instead.\n",
      "  with amp.autocast(autocast):\n"
     ]
    },
    {
     "name": "stdout",
     "output_type": "stream",
     "text": [
      "Time Step: 78, Vehicle Count: 0, Waiting Time: 1, Light: Green\n",
      "Time Step: 79, Vehicle Count: 0, Waiting Time: 0, Light: Red\n",
      "Time Step: 80, Vehicle Count: 0, Waiting Time: 1, Light: Red\n"
     ]
    },
    {
     "name": "stderr",
     "output_type": "stream",
     "text": [
      "C:\\Users\\kligh/.cache\\torch\\hub\\ultralytics_yolov5_master\\models\\common.py:892: FutureWarning: `torch.cuda.amp.autocast(args...)` is deprecated. Please use `torch.amp.autocast('cuda', args...)` instead.\n",
      "  with amp.autocast(autocast):\n",
      "C:\\Users\\kligh/.cache\\torch\\hub\\ultralytics_yolov5_master\\models\\common.py:892: FutureWarning: `torch.cuda.amp.autocast(args...)` is deprecated. Please use `torch.amp.autocast('cuda', args...)` instead.\n",
      "  with amp.autocast(autocast):\n",
      "C:\\Users\\kligh/.cache\\torch\\hub\\ultralytics_yolov5_master\\models\\common.py:892: FutureWarning: `torch.cuda.amp.autocast(args...)` is deprecated. Please use `torch.amp.autocast('cuda', args...)` instead.\n",
      "  with amp.autocast(autocast):\n"
     ]
    },
    {
     "name": "stdout",
     "output_type": "stream",
     "text": [
      "Time Step: 81, Vehicle Count: 0, Waiting Time: 2, Light: Red\n",
      "Time Step: 82, Vehicle Count: 0, Waiting Time: 3, Light: Red\n",
      "Time Step: 83, Vehicle Count: 0, Waiting Time: 4, Light: Red\n"
     ]
    },
    {
     "name": "stderr",
     "output_type": "stream",
     "text": [
      "C:\\Users\\kligh/.cache\\torch\\hub\\ultralytics_yolov5_master\\models\\common.py:892: FutureWarning: `torch.cuda.amp.autocast(args...)` is deprecated. Please use `torch.amp.autocast('cuda', args...)` instead.\n",
      "  with amp.autocast(autocast):\n",
      "C:\\Users\\kligh/.cache\\torch\\hub\\ultralytics_yolov5_master\\models\\common.py:892: FutureWarning: `torch.cuda.amp.autocast(args...)` is deprecated. Please use `torch.amp.autocast('cuda', args...)` instead.\n",
      "  with amp.autocast(autocast):\n",
      "C:\\Users\\kligh/.cache\\torch\\hub\\ultralytics_yolov5_master\\models\\common.py:892: FutureWarning: `torch.cuda.amp.autocast(args...)` is deprecated. Please use `torch.amp.autocast('cuda', args...)` instead.\n",
      "  with amp.autocast(autocast):\n"
     ]
    },
    {
     "name": "stdout",
     "output_type": "stream",
     "text": [
      "Time Step: 84, Vehicle Count: 0, Waiting Time: 5, Light: Green\n",
      "Time Step: 85, Vehicle Count: 0, Waiting Time: 0, Light: Red\n",
      "Time Step: 86, Vehicle Count: 0, Waiting Time: 1, Light: Red\n"
     ]
    },
    {
     "name": "stderr",
     "output_type": "stream",
     "text": [
      "C:\\Users\\kligh/.cache\\torch\\hub\\ultralytics_yolov5_master\\models\\common.py:892: FutureWarning: `torch.cuda.amp.autocast(args...)` is deprecated. Please use `torch.amp.autocast('cuda', args...)` instead.\n",
      "  with amp.autocast(autocast):\n",
      "C:\\Users\\kligh/.cache\\torch\\hub\\ultralytics_yolov5_master\\models\\common.py:892: FutureWarning: `torch.cuda.amp.autocast(args...)` is deprecated. Please use `torch.amp.autocast('cuda', args...)` instead.\n",
      "  with amp.autocast(autocast):\n",
      "C:\\Users\\kligh/.cache\\torch\\hub\\ultralytics_yolov5_master\\models\\common.py:892: FutureWarning: `torch.cuda.amp.autocast(args...)` is deprecated. Please use `torch.amp.autocast('cuda', args...)` instead.\n",
      "  with amp.autocast(autocast):\n"
     ]
    },
    {
     "name": "stdout",
     "output_type": "stream",
     "text": [
      "Time Step: 87, Vehicle Count: 0, Waiting Time: 2, Light: Green\n",
      "Time Step: 88, Vehicle Count: 0, Waiting Time: 0, Light: Green\n",
      "Time Step: 89, Vehicle Count: 0, Waiting Time: 0, Light: Green\n"
     ]
    },
    {
     "name": "stderr",
     "output_type": "stream",
     "text": [
      "C:\\Users\\kligh/.cache\\torch\\hub\\ultralytics_yolov5_master\\models\\common.py:892: FutureWarning: `torch.cuda.amp.autocast(args...)` is deprecated. Please use `torch.amp.autocast('cuda', args...)` instead.\n",
      "  with amp.autocast(autocast):\n",
      "C:\\Users\\kligh/.cache\\torch\\hub\\ultralytics_yolov5_master\\models\\common.py:892: FutureWarning: `torch.cuda.amp.autocast(args...)` is deprecated. Please use `torch.amp.autocast('cuda', args...)` instead.\n",
      "  with amp.autocast(autocast):\n",
      "C:\\Users\\kligh/.cache\\torch\\hub\\ultralytics_yolov5_master\\models\\common.py:892: FutureWarning: `torch.cuda.amp.autocast(args...)` is deprecated. Please use `torch.amp.autocast('cuda', args...)` instead.\n",
      "  with amp.autocast(autocast):\n"
     ]
    },
    {
     "name": "stdout",
     "output_type": "stream",
     "text": [
      "Time Step: 90, Vehicle Count: 0, Waiting Time: 0, Light: Green\n",
      "Time Step: 91, Vehicle Count: 0, Waiting Time: 0, Light: Green\n",
      "Time Step: 92, Vehicle Count: 0, Waiting Time: 0, Light: Red\n"
     ]
    },
    {
     "name": "stderr",
     "output_type": "stream",
     "text": [
      "C:\\Users\\kligh/.cache\\torch\\hub\\ultralytics_yolov5_master\\models\\common.py:892: FutureWarning: `torch.cuda.amp.autocast(args...)` is deprecated. Please use `torch.amp.autocast('cuda', args...)` instead.\n",
      "  with amp.autocast(autocast):\n",
      "C:\\Users\\kligh/.cache\\torch\\hub\\ultralytics_yolov5_master\\models\\common.py:892: FutureWarning: `torch.cuda.amp.autocast(args...)` is deprecated. Please use `torch.amp.autocast('cuda', args...)` instead.\n",
      "  with amp.autocast(autocast):\n",
      "C:\\Users\\kligh/.cache\\torch\\hub\\ultralytics_yolov5_master\\models\\common.py:892: FutureWarning: `torch.cuda.amp.autocast(args...)` is deprecated. Please use `torch.amp.autocast('cuda', args...)` instead.\n",
      "  with amp.autocast(autocast):\n"
     ]
    },
    {
     "name": "stdout",
     "output_type": "stream",
     "text": [
      "Time Step: 93, Vehicle Count: 0, Waiting Time: 1, Light: Green\n",
      "Time Step: 94, Vehicle Count: 0, Waiting Time: 0, Light: Green\n",
      "Time Step: 95, Vehicle Count: 0, Waiting Time: 0, Light: Green\n"
     ]
    },
    {
     "name": "stderr",
     "output_type": "stream",
     "text": [
      "C:\\Users\\kligh/.cache\\torch\\hub\\ultralytics_yolov5_master\\models\\common.py:892: FutureWarning: `torch.cuda.amp.autocast(args...)` is deprecated. Please use `torch.amp.autocast('cuda', args...)` instead.\n",
      "  with amp.autocast(autocast):\n",
      "C:\\Users\\kligh/.cache\\torch\\hub\\ultralytics_yolov5_master\\models\\common.py:892: FutureWarning: `torch.cuda.amp.autocast(args...)` is deprecated. Please use `torch.amp.autocast('cuda', args...)` instead.\n",
      "  with amp.autocast(autocast):\n",
      "C:\\Users\\kligh/.cache\\torch\\hub\\ultralytics_yolov5_master\\models\\common.py:892: FutureWarning: `torch.cuda.amp.autocast(args...)` is deprecated. Please use `torch.amp.autocast('cuda', args...)` instead.\n",
      "  with amp.autocast(autocast):\n"
     ]
    },
    {
     "name": "stdout",
     "output_type": "stream",
     "text": [
      "Time Step: 96, Vehicle Count: 0, Waiting Time: 0, Light: Green\n",
      "Time Step: 97, Vehicle Count: 0, Waiting Time: 0, Light: Red\n",
      "Time Step: 98, Vehicle Count: 1, Waiting Time: 1, Light: Green\n"
     ]
    },
    {
     "name": "stderr",
     "output_type": "stream",
     "text": [
      "C:\\Users\\kligh/.cache\\torch\\hub\\ultralytics_yolov5_master\\models\\common.py:892: FutureWarning: `torch.cuda.amp.autocast(args...)` is deprecated. Please use `torch.amp.autocast('cuda', args...)` instead.\n",
      "  with amp.autocast(autocast):\n",
      "C:\\Users\\kligh/.cache\\torch\\hub\\ultralytics_yolov5_master\\models\\common.py:892: FutureWarning: `torch.cuda.amp.autocast(args...)` is deprecated. Please use `torch.amp.autocast('cuda', args...)` instead.\n",
      "  with amp.autocast(autocast):\n",
      "C:\\Users\\kligh/.cache\\torch\\hub\\ultralytics_yolov5_master\\models\\common.py:892: FutureWarning: `torch.cuda.amp.autocast(args...)` is deprecated. Please use `torch.amp.autocast('cuda', args...)` instead.\n",
      "  with amp.autocast(autocast):\n"
     ]
    },
    {
     "name": "stdout",
     "output_type": "stream",
     "text": [
      "Time Step: 99, Vehicle Count: 4, Waiting Time: 0, Light: Green\n",
      "Time Step: 100, Vehicle Count: 4, Waiting Time: 0, Light: Red\n"
     ]
    },
    {
     "name": "stderr",
     "output_type": "stream",
     "text": [
      "C:\\Users\\kligh/.cache\\torch\\hub\\ultralytics_yolov5_master\\models\\common.py:892: FutureWarning: `torch.cuda.amp.autocast(args...)` is deprecated. Please use `torch.amp.autocast('cuda', args...)` instead.\n",
      "  with amp.autocast(autocast):\n"
     ]
    }
   ],
   "source": [
    "import cv2\n",
    "import torch\n",
    "import gymnasium as gym\n",
    "import numpy as np\n",
    "from gymnasium import spaces\n",
    "from stable_baselines3 import PPO\n",
    "\n",
    "# Load YOLOv5 model\n",
    "yolo_model = torch.hub.load('ultralytics/yolov5', 'yolov5s', pretrained=True)\n",
    "\n",
    "# Define the path to the video file\n",
    "video_path = r'C:\\Users\\kligh\\OneDrive\\Desktop\\Machine_Learning_Projects()\\Traffic_Control_YoloV5\\trafficnet_dataset_v1\\traffic_video_test_1.mp4'\n",
    "\n",
    "# Define a custom traffic control environment that uses YOLOv5 for vehicle detection\n",
    "class TrafficControlEnv(gym.Env):\n",
    "    def __init__(self):\n",
    "        super(TrafficControlEnv, self).__init__()\n",
    "\n",
    "        # Define action and observation space\n",
    "        # Actions: 0 -> Switch to Red, 1 -> Switch to Green, 2 -> Extend Green Light\n",
    "        self.action_space = spaces.Discrete(3)\n",
    "\n",
    "        # Observation space: [vehicle count, average waiting time, traffic density, vehicle type priority]\n",
    "        self.observation_space = spaces.Box(low=0, high=100, shape=(4,), dtype=np.float32)\n",
    "\n",
    "        # Initialize state variables\n",
    "        self.vehicle_count = 0\n",
    "        self.max_vehicles = 100\n",
    "        self.average_waiting_time = 0\n",
    "        self.traffic_density = 0\n",
    "        self.vehicle_type_priority = 0\n",
    "\n",
    "        self.green_light_duration = 10\n",
    "        self.current_light_state = 1  # 1 for green light, 0 for red light\n",
    "        self.time_step = 0\n",
    "        self.video = cv2.VideoCapture(video_path)  # Open the video file\n",
    "\n",
    "    def reset(self, seed=None, options=None):\n",
    "        super().reset(seed=seed)\n",
    "        self.video.set(cv2.CAP_PROP_POS_FRAMES, 0)  # Reset video to start\n",
    "\n",
    "        # Reset state variables\n",
    "        self.vehicle_count = 0\n",
    "        self.average_waiting_time = 0\n",
    "        self.traffic_density = 0\n",
    "        self.vehicle_type_priority = 0\n",
    "\n",
    "        self.current_light_state = 1  # Start with green light\n",
    "        self.time_step = 0\n",
    "\n",
    "        return np.array([self.vehicle_count, self.average_waiting_time, self.traffic_density, self.vehicle_type_priority], dtype=np.float32), {}\n",
    "\n",
    "    def step(self, action):\n",
    "        self.time_step += 1\n",
    "\n",
    "        # Read a frame from the video\n",
    "        ret, frame = self.video.read()\n",
    "        if not ret:\n",
    "            print(\"End of video.\")\n",
    "            done = True\n",
    "            return np.array([self.vehicle_count, self.average_waiting_time, self.traffic_density, self.vehicle_type_priority], dtype=np.float32), 0, done, False, {}\n",
    "\n",
    "        # Use YOLOv5 to detect vehicles in the frame\n",
    "        results = yolo_model(frame)\n",
    "\n",
    "        # Filter for vehicle-related objects (car, bus, truck)\n",
    "        vehicle_classes = ['car', 'bus', 'truck']\n",
    "        detected_classes = results.xyxy[0][:, -1].cpu().numpy()\n",
    "        self.vehicle_count = sum([1 for cls in detected_classes if results.names[int(cls)] in vehicle_classes])\n",
    "\n",
    "        # Update average waiting time\n",
    "        if self.current_light_state == 0:  # Red light\n",
    "            self.average_waiting_time += 1\n",
    "        else:\n",
    "            self.average_waiting_time = 0\n",
    "\n",
    "        # Update traffic density based on vehicle count\n",
    "        self.traffic_density = self.vehicle_count / self.max_vehicles\n",
    "\n",
    "        # Vehicle type priority (based on types detected, higher priority for buses/trucks)\n",
    "        self.vehicle_type_priority = np.random.uniform(0, 1)  # Random for now, but could use real priorities\n",
    "\n",
    "        # Handle actions\n",
    "        if action == 0:  # Switch to Red Light\n",
    "            self.current_light_state = 0\n",
    "        elif action == 1:  # Switch to Green Light\n",
    "            self.current_light_state = 1\n",
    "        elif action == 2:  # Extend Green Light\n",
    "            self.current_light_state = 1\n",
    "            self.green_light_duration += 1\n",
    "\n",
    "        # Reward based on waiting time and traffic density\n",
    "        reward = -self.average_waiting_time - self.traffic_density * 100\n",
    "\n",
    "        # Done condition if the video ends or max timesteps reached\n",
    "        done = self.time_step >= 100\n",
    "\n",
    "        return np.array([self.vehicle_count, self.average_waiting_time, self.traffic_density, self.vehicle_type_priority], dtype=np.float32), reward, done, False, {}\n",
    "\n",
    "    def render(self, mode=\"human\"):\n",
    "        print(f\"Time Step: {self.time_step}, Vehicle Count: {self.vehicle_count}, Waiting Time: {self.average_waiting_time}, Light: {'Green' if self.current_light_state else 'Red'}\")\n",
    "\n",
    "# Initialize the environment and agent\n",
    "env = TrafficControlEnv()\n",
    "\n",
    "# Load the trained model or initialize a new one if you need to train\n",
    "model = PPO(\"MlpPolicy\", env, verbose=1)\n",
    "\n",
    "# Train the model for a certain number of timesteps (optional, skip if the model is trained)\n",
    "# model.learn(total_timesteps=10000)\n",
    "\n",
    "# Test the trained model on the video\n",
    "state, _ = env.reset()\n",
    "while True:\n",
    "    action, _states = model.predict(state)\n",
    "    state, reward, done, truncated, info = env.step(action)\n",
    "    env.render()\n",
    "\n",
    "    if done:\n",
    "        break\n",
    "\n",
    "# Release video resources\n",
    "env.video.release()\n",
    "cv2.destroyAllWindows()\n"
   ]
  },
  {
   "cell_type": "code",
   "execution_count": 3,
   "metadata": {},
   "outputs": [
    {
     "ename": "FileNotFoundError",
     "evalue": "'yolov5s' does not exist",
     "output_type": "error",
     "traceback": [
      "\u001b[1;31m---------------------------------------------------------------------------\u001b[0m",
      "\u001b[1;31mFileNotFoundError\u001b[0m                         Traceback (most recent call last)",
      "Cell \u001b[1;32mIn[3], line 102\u001b[0m\n\u001b[0;32m    100\u001b[0m \u001b[38;5;66;03m# Call the process_video_with_rl with your video file\u001b[39;00m\n\u001b[0;32m    101\u001b[0m video_path \u001b[38;5;241m=\u001b[39m \u001b[38;5;124m'\u001b[39m\u001b[38;5;124mtraffic_video.mp4\u001b[39m\u001b[38;5;124m'\u001b[39m  \u001b[38;5;66;03m# Replace with your actual video file path\u001b[39;00m\n\u001b[1;32m--> 102\u001b[0m \u001b[43mprocess_video_with_rl\u001b[49m\u001b[43m(\u001b[49m\u001b[43mvideo_path\u001b[49m\u001b[43m)\u001b[49m\n",
      "Cell \u001b[1;32mIn[3], line 50\u001b[0m, in \u001b[0;36mprocess_video_with_rl\u001b[1;34m(video_path)\u001b[0m\n\u001b[0;32m     48\u001b[0m \u001b[38;5;28;01mdef\u001b[39;00m \u001b[38;5;21mprocess_video_with_rl\u001b[39m(video_path):\n\u001b[0;32m     49\u001b[0m     \u001b[38;5;66;03m# Load YOLOv5 model\u001b[39;00m\n\u001b[1;32m---> 50\u001b[0m     model \u001b[38;5;241m=\u001b[39m \u001b[43mYOLO\u001b[49m\u001b[43m(\u001b[49m\u001b[38;5;124;43m'\u001b[39;49m\u001b[38;5;124;43myolov5s\u001b[39;49m\u001b[38;5;124;43m'\u001b[39;49m\u001b[43m)\u001b[49m  \u001b[38;5;66;03m# Assuming you have the YOLOv5s model ready\u001b[39;00m\n\u001b[0;32m     52\u001b[0m     \u001b[38;5;66;03m# Initialize video capture\u001b[39;00m\n\u001b[0;32m     53\u001b[0m     cap \u001b[38;5;241m=\u001b[39m cv2\u001b[38;5;241m.\u001b[39mVideoCapture(video_path)\n",
      "File \u001b[1;32mc:\\Users\\kligh\\miniconda3\\envs\\tf_env\\lib\\site-packages\\ultralytics\\models\\yolo\\model.py:23\u001b[0m, in \u001b[0;36mYOLO.__init__\u001b[1;34m(self, model, task, verbose)\u001b[0m\n\u001b[0;32m     20\u001b[0m     \u001b[38;5;28mself\u001b[39m\u001b[38;5;241m.\u001b[39m\u001b[38;5;18m__dict__\u001b[39m \u001b[38;5;241m=\u001b[39m new_instance\u001b[38;5;241m.\u001b[39m\u001b[38;5;18m__dict__\u001b[39m\n\u001b[0;32m     21\u001b[0m \u001b[38;5;28;01melse\u001b[39;00m:\n\u001b[0;32m     22\u001b[0m     \u001b[38;5;66;03m# Continue with default YOLO initialization\u001b[39;00m\n\u001b[1;32m---> 23\u001b[0m     \u001b[38;5;28;43msuper\u001b[39;49m\u001b[43m(\u001b[49m\u001b[43m)\u001b[49m\u001b[38;5;241;43m.\u001b[39;49m\u001b[38;5;21;43m__init__\u001b[39;49m\u001b[43m(\u001b[49m\u001b[43mmodel\u001b[49m\u001b[38;5;241;43m=\u001b[39;49m\u001b[43mmodel\u001b[49m\u001b[43m,\u001b[49m\u001b[43m \u001b[49m\u001b[43mtask\u001b[49m\u001b[38;5;241;43m=\u001b[39;49m\u001b[43mtask\u001b[49m\u001b[43m,\u001b[49m\u001b[43m \u001b[49m\u001b[43mverbose\u001b[49m\u001b[38;5;241;43m=\u001b[39;49m\u001b[43mverbose\u001b[49m\u001b[43m)\u001b[49m\n",
      "File \u001b[1;32mc:\\Users\\kligh\\miniconda3\\envs\\tf_env\\lib\\site-packages\\ultralytics\\engine\\model.py:145\u001b[0m, in \u001b[0;36mModel.__init__\u001b[1;34m(self, model, task, verbose)\u001b[0m\n\u001b[0;32m    143\u001b[0m     \u001b[38;5;28mself\u001b[39m\u001b[38;5;241m.\u001b[39m_new(model, task\u001b[38;5;241m=\u001b[39mtask, verbose\u001b[38;5;241m=\u001b[39mverbose)\n\u001b[0;32m    144\u001b[0m \u001b[38;5;28;01melse\u001b[39;00m:\n\u001b[1;32m--> 145\u001b[0m     \u001b[38;5;28;43mself\u001b[39;49m\u001b[38;5;241;43m.\u001b[39;49m\u001b[43m_load\u001b[49m\u001b[43m(\u001b[49m\u001b[43mmodel\u001b[49m\u001b[43m,\u001b[49m\u001b[43m \u001b[49m\u001b[43mtask\u001b[49m\u001b[38;5;241;43m=\u001b[39;49m\u001b[43mtask\u001b[49m\u001b[43m)\u001b[49m\n",
      "File \u001b[1;32mc:\\Users\\kligh\\miniconda3\\envs\\tf_env\\lib\\site-packages\\ultralytics\\engine\\model.py:290\u001b[0m, in \u001b[0;36mModel._load\u001b[1;34m(self, weights, task)\u001b[0m\n\u001b[0;32m    288\u001b[0m     \u001b[38;5;28mself\u001b[39m\u001b[38;5;241m.\u001b[39mckpt_path \u001b[38;5;241m=\u001b[39m \u001b[38;5;28mself\u001b[39m\u001b[38;5;241m.\u001b[39mmodel\u001b[38;5;241m.\u001b[39mpt_path\n\u001b[0;32m    289\u001b[0m \u001b[38;5;28;01melse\u001b[39;00m:\n\u001b[1;32m--> 290\u001b[0m     weights \u001b[38;5;241m=\u001b[39m \u001b[43mchecks\u001b[49m\u001b[38;5;241;43m.\u001b[39;49m\u001b[43mcheck_file\u001b[49m\u001b[43m(\u001b[49m\u001b[43mweights\u001b[49m\u001b[43m)\u001b[49m  \u001b[38;5;66;03m# runs in all cases, not redundant with above call\u001b[39;00m\n\u001b[0;32m    291\u001b[0m     \u001b[38;5;28mself\u001b[39m\u001b[38;5;241m.\u001b[39mmodel, \u001b[38;5;28mself\u001b[39m\u001b[38;5;241m.\u001b[39mckpt \u001b[38;5;241m=\u001b[39m weights, \u001b[38;5;28;01mNone\u001b[39;00m\n\u001b[0;32m    292\u001b[0m     \u001b[38;5;28mself\u001b[39m\u001b[38;5;241m.\u001b[39mtask \u001b[38;5;241m=\u001b[39m task \u001b[38;5;129;01mor\u001b[39;00m guess_model_task(weights)\n",
      "File \u001b[1;32mc:\\Users\\kligh\\miniconda3\\envs\\tf_env\\lib\\site-packages\\ultralytics\\utils\\checks.py:521\u001b[0m, in \u001b[0;36mcheck_file\u001b[1;34m(file, suffix, download, download_dir, hard)\u001b[0m\n\u001b[0;32m    519\u001b[0m files \u001b[38;5;241m=\u001b[39m glob\u001b[38;5;241m.\u001b[39mglob(\u001b[38;5;28mstr\u001b[39m(ROOT \u001b[38;5;241m/\u001b[39m \u001b[38;5;124m\"\u001b[39m\u001b[38;5;124m**\u001b[39m\u001b[38;5;124m\"\u001b[39m \u001b[38;5;241m/\u001b[39m file), recursive\u001b[38;5;241m=\u001b[39m\u001b[38;5;28;01mTrue\u001b[39;00m) \u001b[38;5;129;01mor\u001b[39;00m glob\u001b[38;5;241m.\u001b[39mglob(\u001b[38;5;28mstr\u001b[39m(ROOT\u001b[38;5;241m.\u001b[39mparent \u001b[38;5;241m/\u001b[39m file))  \u001b[38;5;66;03m# find file\u001b[39;00m\n\u001b[0;32m    520\u001b[0m \u001b[38;5;28;01mif\u001b[39;00m \u001b[38;5;129;01mnot\u001b[39;00m files \u001b[38;5;129;01mand\u001b[39;00m hard:\n\u001b[1;32m--> 521\u001b[0m     \u001b[38;5;28;01mraise\u001b[39;00m \u001b[38;5;167;01mFileNotFoundError\u001b[39;00m(\u001b[38;5;124mf\u001b[39m\u001b[38;5;124m\"\u001b[39m\u001b[38;5;124m'\u001b[39m\u001b[38;5;132;01m{\u001b[39;00mfile\u001b[38;5;132;01m}\u001b[39;00m\u001b[38;5;124m'\u001b[39m\u001b[38;5;124m does not exist\u001b[39m\u001b[38;5;124m\"\u001b[39m)\n\u001b[0;32m    522\u001b[0m \u001b[38;5;28;01melif\u001b[39;00m \u001b[38;5;28mlen\u001b[39m(files) \u001b[38;5;241m>\u001b[39m \u001b[38;5;241m1\u001b[39m \u001b[38;5;129;01mand\u001b[39;00m hard:\n\u001b[0;32m    523\u001b[0m     \u001b[38;5;28;01mraise\u001b[39;00m \u001b[38;5;167;01mFileNotFoundError\u001b[39;00m(\u001b[38;5;124mf\u001b[39m\u001b[38;5;124m\"\u001b[39m\u001b[38;5;124mMultiple files match \u001b[39m\u001b[38;5;124m'\u001b[39m\u001b[38;5;132;01m{\u001b[39;00mfile\u001b[38;5;132;01m}\u001b[39;00m\u001b[38;5;124m'\u001b[39m\u001b[38;5;124m, specify exact path: \u001b[39m\u001b[38;5;132;01m{\u001b[39;00mfiles\u001b[38;5;132;01m}\u001b[39;00m\u001b[38;5;124m\"\u001b[39m)\n",
      "\u001b[1;31mFileNotFoundError\u001b[0m: 'yolov5s' does not exist"
     ]
    }
   ],
   "source": [
    "import gym\n",
    "from gym import spaces\n",
    "import numpy as np\n",
    "import torch\n",
    "import cv2\n",
    "from stable_baselines3 import PPO\n",
    "from stable_baselines3.common.monitor import Monitor\n",
    "from stable_baselines3.common.vec_env import DummyVecEnv\n",
    "from ultralytics import YOLO  # Assuming you're using YOLOv5 through Ultralytics library\n",
    "\n",
    "\n",
    "# Define the custom TrafficLightEnv\n",
    "class TrafficLightEnv(gym.Env):\n",
    "    def __init__(self):\n",
    "        super(TrafficLightEnv, self).__init__()\n",
    "        # Define action and observation space\n",
    "        self.action_space = spaces.Discrete(2)  # Red or Green light\n",
    "        self.observation_space = spaces.Box(low=0, high=100, shape=(2,), dtype=np.int32)  # Vehicle count, waiting time\n",
    "        self.state = None\n",
    "\n",
    "    def reset(self):\n",
    "        self.state = np.array([np.random.randint(0, 50), 0])  # Random vehicle count, 0 waiting time\n",
    "        return self.state\n",
    "\n",
    "    def step(self, action):\n",
    "        vehicle_count, waiting_time = self.state\n",
    "        if action == 1:  # Green light\n",
    "            waiting_time = 0\n",
    "            vehicle_count = max(vehicle_count - np.random.randint(5, 20), 0)\n",
    "        else:  # Red light\n",
    "            waiting_time += 1\n",
    "\n",
    "        self.state = np.array([vehicle_count, waiting_time])\n",
    "        reward = -waiting_time  # Negative reward to minimize waiting time\n",
    "        done = vehicle_count == 0\n",
    "        return self.state, reward, done, {}\n",
    "\n",
    "    def render(self, mode='human'):\n",
    "        print(f\"Vehicle Count: {self.state[0]}, Waiting Time: {self.state[1]}\")\n",
    "\n",
    "# Register custom environment\n",
    "gym.envs.registration.register(\n",
    "    id='TrafficLightEnv-v0',\n",
    "    entry_point='__main__:TrafficLightEnv',\n",
    ")\n",
    "\n",
    "# Process the video with YOLOv5 and the RL agent\n",
    "def process_video_with_rl(video_path):\n",
    "    # Load YOLOv5 model\n",
    "    model = YOLO('yolov5s')  # Assuming you have the YOLOv5s model ready\n",
    "\n",
    "    # Initialize video capture\n",
    "    cap = cv2.VideoCapture(video_path)\n",
    "    frame_width = int(cap.get(cv2.CAP_PROP_FRAME_WIDTH))\n",
    "    frame_height = int(cap.get(cv2.CAP_PROP_FRAME_HEIGHT))\n",
    "    output_path = \"output.mp4\"\n",
    "    out = cv2.VideoWriter(output_path, cv2.VideoWriter_fourcc(*'mp4v'), 30, (frame_width, frame_height))\n",
    "\n",
    "    # Initialize the RL environment (TrafficLightEnv)\n",
    "    env = gym.make('TrafficLightEnv-v0')\n",
    "    env = Monitor(env)\n",
    "    env = DummyVecEnv([lambda: env])\n",
    "\n",
    "    # Initialize PPO model\n",
    "    model_rl = PPO('MlpPolicy', env, verbose=1)\n",
    "    model_rl.learn(total_timesteps=10000)\n",
    "\n",
    "    time_step = 0\n",
    "    while cap.isOpened():\n",
    "        ret, frame = cap.read()\n",
    "        if not ret:\n",
    "            break\n",
    "\n",
    "        # Run YOLOv5 detection\n",
    "        results = model(frame)\n",
    "\n",
    "        # Render bounding boxes on frame\n",
    "        for result in results:\n",
    "            for box in result.boxes:\n",
    "                x1, y1, x2, y2 = box.xyxy.cpu().numpy().astype(int)[0]\n",
    "                label = box.cls\n",
    "                conf = box.conf\n",
    "                cv2.rectangle(frame, (x1, y1), (x2, y2), (255, 0, 0), 2)\n",
    "                cv2.putText(frame, f\"{label} {conf:.2f}\", (x1, y1 - 10), cv2.FONT_HERSHEY_SIMPLEX, 0.9, (255, 255, 255), 2)\n",
    "\n",
    "        # Get RL action (Red or Green light)\n",
    "        action, _states = model_rl.predict(env.reset())\n",
    "        new_state, reward, done, info = env.step(action)\n",
    "        print(f\"Time Step: {time_step + 1}, Vehicle Count: {new_state[0][0]}, Waiting Time: {new_state[0][1]}, Light: {'Green' if action == 1 else 'Red'}\")\n",
    "\n",
    "        # Write the processed frame\n",
    "        out.write(frame)\n",
    "        time_step += 1\n",
    "\n",
    "    cap.release()\n",
    "    out.release()\n",
    "    cv2.destroyAllWindows()\n",
    "\n",
    "\n",
    "# Call the process_video_with_rl with your video file\n",
    "video_path = 'traffic_video.mp4'  # Replace with your actual video file path\n",
    "process_video_with_rl(video_path)\n"
   ]
  }
 ],
 "metadata": {
  "kernelspec": {
   "display_name": "tf_env",
   "language": "python",
   "name": "python3"
  },
  "language_info": {
   "codemirror_mode": {
    "name": "ipython",
    "version": 3
   },
   "file_extension": ".py",
   "mimetype": "text/x-python",
   "name": "python",
   "nbconvert_exporter": "python",
   "pygments_lexer": "ipython3",
   "version": "3.9.18"
  }
 },
 "nbformat": 4,
 "nbformat_minor": 2
}
